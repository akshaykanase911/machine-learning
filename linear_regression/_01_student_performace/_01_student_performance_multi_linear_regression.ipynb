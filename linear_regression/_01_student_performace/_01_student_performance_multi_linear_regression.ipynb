{
 "cells": [
  {
   "cell_type": "markdown",
   "id": "c8a3fe42",
   "metadata": {},
   "source": [
    "# Load dataset - Student Performance (Multiple Linear Regression) \n",
    "\n",
    "About Dataset\n",
    "Description:\n",
    "\n",
    "The Student Performance Dataset is a dataset designed to examine the factors influencing academic student performance. The dataset consists of 10,000 student records, with each record containing information about various predictors and a performance index.\n",
    "\n",
    "Variables:\n",
    "\n",
    "Hours Studied: The total number of hours spent studying by each student.\n",
    "Previous Scores: The scores obtained by students in previous tests.\n",
    "Extracurricular Activities: Whether the student participates in extracurricular activities (Yes or No).\n",
    "Sleep Hours: The average number of hours of sleep the student had per day.\n",
    "Sample Question Papers Practiced: The number of sample question papers the student practiced.\n",
    "Target Variable:\n",
    "\n",
    "Performance Index: A measure of the overall performance of each student. The performance index represents the student's academic performance and has been rounded to the nearest integer. The index ranges from 10 to 100, with higher values indicating better performance.\n",
    "The dataset aims to provide insights into the relationship between the predictor variables and the performance index. Researchers and data analysts can use this dataset to explore the impact of studying hours, previous scores, extracurricular activities, sleep hours, and sample question papers on student performance.\n",
    "\n",
    "P.S: Please note that this dataset is synthetic and created for illustrative purposes. The relationships between the variables and the performance index may not reflect real-world scenarios"
   ]
  },
  {
   "cell_type": "code",
   "execution_count": null,
   "id": "a0af8abd",
   "metadata": {},
   "outputs": [],
   "source": [
    "! pip install kagglehub pandas numpy scikit-learn matplotlib seaborn --quiet"
   ]
  },
  {
   "cell_type": "markdown",
   "id": "c84ccb60",
   "metadata": {},
   "source": [
    "# Load dataset"
   ]
  },
  {
   "cell_type": "code",
   "execution_count": null,
   "id": "a8a70320",
   "metadata": {},
   "outputs": [],
   "source": [
    "import pandas as pd\n",
    "\n",
    "\n",
    "df = pd.read_csv(\"Student_Performance.csv\")\n",
    "df.head()"
   ]
  },
  {
   "cell_type": "markdown",
   "id": "84bc8cc1",
   "metadata": {},
   "source": [
    "# EDA\n",
    "* Check Null values, if present update it with the \n"
   ]
  },
  {
   "cell_type": "code",
   "execution_count": null,
   "id": "8a66667a",
   "metadata": {},
   "outputs": [],
   "source": [
    "df.isna().sum()"
   ]
  },
  {
   "cell_type": "code",
   "execution_count": null,
   "id": "4cca0de0",
   "metadata": {},
   "outputs": [],
   "source": [
    "df.describe(include='all')"
   ]
  },
  {
   "cell_type": "markdown",
   "id": "3913012f",
   "metadata": {},
   "source": [
    "Convert extracurricular activities into binary 0,1 "
   ]
  },
  {
   "cell_type": "code",
   "execution_count": null,
   "id": "20d10897",
   "metadata": {},
   "outputs": [],
   "source": [
    "s = lambda x: 0 if x.lower() == 'no' else 1\n",
    "\n",
    "df['Extracurricular Activities'] = df['Extracurricular Activities'].apply(s)\n",
    "df.head()"
   ]
  },
  {
   "cell_type": "code",
   "execution_count": null,
   "id": "cf388b28",
   "metadata": {},
   "outputs": [],
   "source": [
    "# split dataset into 3 catogories \n",
    "# 1. train dataset \n",
    "# 2. validation dataset\n",
    "# 3. test dataset\n",
    "\n",
    "from sklearn.model_selection import train_test_split\n",
    "\n",
    "train, test = train_test_split(df, test_size=0.2, random_state=42)\n",
    "train, val = train_test_split(train, test_size=0.25, random_state=42) # 0.25 x 0.8 = 0.2"
   ]
  },
  {
   "cell_type": "code",
   "execution_count": null,
   "id": "3a4e1629",
   "metadata": {},
   "outputs": [],
   "source": [
    "train.shape, val.shape, test.shape "
   ]
  },
  {
   "cell_type": "code",
   "execution_count": null,
   "id": "9f9126ba",
   "metadata": {},
   "outputs": [],
   "source": [
    "from sklearn.model_selection import train_test_split\n",
    "from sklearn.linear_model import LinearRegression\n",
    "from sklearn.metrics import mean_squared_error, r2_score\n",
    "import numpy as np\n",
    "import matplotlib.pyplot as plt\n",
    "import seaborn as sns   \n",
    "\n",
    "\n",
    "# Define features and target variable\n",
    "features = ['Hours Studied', 'Previous Scores',\t'Extracurricular Activities', 'Sleep Hours', 'Sample Question Papers Practiced']\n",
    "target = 'Performance Index'\n",
    "X_train = train[features]\n",
    "y_train = train[target]\n",
    "X_val = val[features]\n",
    "y_val = val[target]\n",
    "X_test = test[features]\n",
    "y_test = test[target]\n",
    "\n",
    "# Initialize and train the model\n",
    "model = LinearRegression()\n",
    "model.fit(X_train, y_train) \n",
    "\n",
    "# Make predictions\n",
    "y_val_pred = model.predict(X_val)\n",
    "y_test_pred = model.predict(X_test) \n",
    "\n",
    "# Evaluate the model\n",
    "val_mse = mean_squared_error(y_val, y_val_pred)\n",
    "val_r2 = r2_score(y_val, y_val_pred)\n",
    "print(f\"Validation MSE: {val_mse}, R2: {val_r2}\")\n",
    "\n",
    "test_mse = mean_squared_error(y_test, y_test_pred)\n",
    "test_r2 = r2_score(y_test, y_test_pred)\n",
    "print(f\"Test MSE: {test_mse}, R2: {test_r2}\")\n",
    "\n",
    "# Plotting Actual vs Predicted for Validation set\n",
    "plt.figure(figsize=(10, 6))\n",
    "plt.subplot(1, 2, 1)\n",
    "sns.scatterplot(x=y_val, y=y_val_pred, color='blue')\n",
    "plt.xlabel('Actual Performance Index')\n",
    "plt.ylabel('Predicted Performance Index')\n",
    "plt.title('Validation Set: Actual vs Predicted')\n",
    "plt.plot([y_val.min(), y_val.max()], [y_val.min(), y_val.max()], 'k--', lw=2)"
   ]
  },
  {
   "cell_type": "code",
   "execution_count": null,
   "id": "6924098c",
   "metadata": {},
   "outputs": [],
   "source": [
    "model.coef_, model.intercept_"
   ]
  },
  {
   "cell_type": "code",
   "execution_count": null,
   "id": "59785daa",
   "metadata": {},
   "outputs": [],
   "source": [
    "model.score(X_test, y_test)"
   ]
  },
  {
   "cell_type": "code",
   "execution_count": null,
   "id": "44e2ff8e",
   "metadata": {},
   "outputs": [],
   "source": [
    "model.score(X_val, y_val)"
   ]
  },
  {
   "cell_type": "code",
   "execution_count": null,
   "id": "a7b2a958",
   "metadata": {},
   "outputs": [],
   "source": [
    "model.predict([[5, 80, 1, 7, 10]])"
   ]
  },
  {
   "cell_type": "markdown",
   "id": "de4d1e93",
   "metadata": {},
   "source": [
    "With normalization"
   ]
  },
  {
   "cell_type": "code",
   "execution_count": null,
   "id": "e655ad4e",
   "metadata": {},
   "outputs": [],
   "source": [
    "# normalization of the dataset \n",
    "\n",
    "from sklearn.preprocessing import StandardScaler\n",
    "scaler = StandardScaler()\n",
    "X_train_scaled = scaler.fit_transform(X_train)\n",
    "X_val_scaled = scaler.fit_transform(X_val)\n",
    "X_test_scaled = scaler.fit_transform(X_test)\n",
    "model_n1 = LinearRegression()\n",
    "model_n1.fit(X_train_scaled, y_train)\n",
    "\n",
    "model_n1.score(X_test_scaled, y_test)"
   ]
  },
  {
   "cell_type": "code",
   "execution_count": null,
   "id": "52d064ab",
   "metadata": {},
   "outputs": [],
   "source": [
    "def get_performance_index(hours_studied, previous_scores, extracurricular_activities, sleep_hours, sample_question_papers_practiced):\n",
    "    input_data = np.array([[hours_studied, previous_scores, extracurricular_activities, sleep_hours, sample_question_papers_practiced]])\n",
    "    input_data_scaled = scaler.fit_transform(input_data)\n",
    "    predicted_index = model_n1.predict(input_data_scaled)\n",
    "    return int(predicted_index[0])"
   ]
  },
  {
   "cell_type": "code",
   "execution_count": null,
   "id": "9e19b3a5",
   "metadata": {},
   "outputs": [],
   "source": [
    "get_performance_index(10, 80, 0, 10, 10)"
   ]
  },
  {
   "cell_type": "code",
   "execution_count": null,
   "id": "6e959482",
   "metadata": {},
   "outputs": [],
   "source": []
  },
  {
   "cell_type": "code",
   "execution_count": null,
   "id": "ebd286db",
   "metadata": {},
   "outputs": [],
   "source": []
  }
 ],
 "metadata": {
  "kernelspec": {
   "display_name": ".venv",
   "language": "python",
   "name": "python3"
  },
  "language_info": {
   "codemirror_mode": {
    "name": "ipython",
    "version": 3
   },
   "file_extension": ".py",
   "mimetype": "text/x-python",
   "name": "python",
   "nbconvert_exporter": "python",
   "pygments_lexer": "ipython3",
   "version": "3.12.2"
  }
 },
 "nbformat": 4,
 "nbformat_minor": 5
}
