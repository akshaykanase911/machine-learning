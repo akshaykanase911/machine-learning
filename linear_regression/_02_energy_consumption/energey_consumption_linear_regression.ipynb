{
 "cells": [
  {
   "cell_type": "markdown",
   "id": "901af525",
   "metadata": {},
   "source": [
    "# Energy Consumption Dataset - Linear Regression\n",
    "Description:\n",
    "This dataset is designed for predicting energy consumption based on various building features and environmental factors. It contains data for multiple building types, square footage, the number of occupants, appliances used, average temperature, and the day of the week. The goal is to build a predictive model to estimate energy consumption using these attributes.\n",
    "\n",
    "The dataset can be used for training machine learning models such as linear regression to forecast energy needs based on the building's characteristics. This is useful for understanding energy demand patterns and optimizing energy consumption in different building types and environmental conditions."
   ]
  },
  {
   "cell_type": "code",
   "execution_count": null,
   "id": "a8823310",
   "metadata": {},
   "outputs": [],
   "source": [
    "# Load Dataset\n",
    "import pandas as pd \n",
    "\n",
    "\n",
    "train_data = pd.read_csv('train_energy_data.csv')\n",
    "test_data = pd.read_csv('test_energy_data.csv')\n",
    "train_data.shape, test_data.shape, train_data.head(), test_data.head()"
   ]
  },
  {
   "cell_type": "code",
   "execution_count": null,
   "id": "731ca8e9",
   "metadata": {},
   "outputs": [],
   "source": [
    "train_data.info()"
   ]
  },
  {
   "cell_type": "code",
   "execution_count": null,
   "id": "0fddd564",
   "metadata": {},
   "outputs": [],
   "source": [
    "train_data.describe(include='all')"
   ]
  },
  {
   "cell_type": "code",
   "execution_count": null,
   "id": "a7cd3974",
   "metadata": {},
   "outputs": [],
   "source": [
    "from sklearn.preprocessing import OneHotEncoder, LabelEncoder\n",
    "from sklearn.compose import ColumnTransformer\n",
    "\n",
    "ct = ColumnTransformer(\n",
    "    transformers=[('encoder', OneHotEncoder(drop='first'), ['Building Type', 'Day of Week'])],\n",
    "    remainder='passthrough'\n",
    ")\n",
    "\n",
    "# Splitting the dataset into features and target variable\n",
    "\n",
    "X = ct.fit_transform(train_data.iloc[:, :-1])\n",
    "y = train_data.iloc[:, -1].values\n",
    "\n",
    "x_test = ct.transform(test_data.iloc[:, :-1])\n",
    "y_test = test_data.iloc[:, -1].values\n",
    "\n",
    "X.shape, y.shape, x_test.shape, y_test.shape\n"
   ]
  },
  {
   "cell_type": "code",
   "execution_count": null,
   "id": "a0f282ce",
   "metadata": {},
   "outputs": [],
   "source": [
    "from sklearn.model_selection import train_test_split\n",
    "from sklearn.linear_model import LinearRegression\n",
    "from sklearn.metrics import mean_absolute_error, mean_squared_error, r2_score\n",
    "\n",
    "\n",
    "# Splitting the dataset into training and validation sets\n",
    "X_train, X_val, y_train, y_val = train_test_split(X, y, test_size=0.2, random_state=42) \n",
    "\n",
    "# Training the Linear Regression model\n",
    "model = LinearRegression()\n",
    "model.fit(X_train, y_train) \n",
    "\n",
    "# Making predictions on the validation set\n",
    "y_pred = model.predict(X_val)\n",
    "# Evaluating the model\n",
    "mae = mean_absolute_error(y_val, y_pred)\n",
    "mse = mean_squared_error(y_val, y_pred)\n",
    "r2 = r2_score(y_val, y_pred)\n",
    "mae, mse, r2"
   ]
  },
  {
   "cell_type": "code",
   "execution_count": null,
   "id": "b65393f0",
   "metadata": {},
   "outputs": [],
   "source": [
    "y_pred = model.predict(x_test)"
   ]
  },
  {
   "cell_type": "code",
   "execution_count": null,
   "id": "b671d7ff",
   "metadata": {},
   "outputs": [],
   "source": [
    "model.score(X_val, y_val)"
   ]
  },
  {
   "cell_type": "code",
   "execution_count": null,
   "id": "4c6b4fe9",
   "metadata": {},
   "outputs": [],
   "source": [
    "model.score(x_test, y_test)"
   ]
  },
  {
   "cell_type": "code",
   "execution_count": null,
   "id": "d4e389dc",
   "metadata": {},
   "outputs": [],
   "source": []
  }
 ],
 "metadata": {
  "kernelspec": {
   "display_name": ".venv",
   "language": "python",
   "name": "python3"
  },
  "language_info": {
   "codemirror_mode": {
    "name": "ipython",
    "version": 3
   },
   "file_extension": ".py",
   "mimetype": "text/x-python",
   "name": "python",
   "nbconvert_exporter": "python",
   "pygments_lexer": "ipython3",
   "version": "3.12.2"
  }
 },
 "nbformat": 4,
 "nbformat_minor": 5
}
